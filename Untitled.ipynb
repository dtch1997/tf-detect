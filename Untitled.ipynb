{
 "cells": [
  {
   "cell_type": "code",
   "execution_count": 1,
   "metadata": {},
   "outputs": [],
   "source": [
    "import sys\n",
    "sys.path.append('lib/tfmodels/research')\n",
    "\n",
    "from object_detection import inputs\n",
    "from object_detection import model_lib\n",
    "MODEL_BUILD_UTIL_MAP = model_lib.MODEL_BUILD_UTIL_MAP\n",
    "\n",
    "get_configs_from_pipeline_file = MODEL_BUILD_UTIL_MAP[\n",
    "  'get_configs_from_pipeline_file']\n",
    "merge_external_params_with_configs = MODEL_BUILD_UTIL_MAP[\n",
    "  'merge_external_params_with_configs']\n",
    "create_pipeline_proto_from_configs = MODEL_BUILD_UTIL_MAP[\n",
    "  'create_pipeline_proto_from_configs']"
   ]
  },
  {
   "cell_type": "code",
   "execution_count": null,
   "metadata": {},
   "outputs": [],
   "source": []
  }
 ],
 "metadata": {
  "kernelspec": {
   "display_name": "Python 3",
   "language": "python",
   "name": "python3"
  },
  "language_info": {
   "codemirror_mode": {
    "name": "ipython",
    "version": 3
   },
   "file_extension": ".py",
   "mimetype": "text/x-python",
   "name": "python",
   "nbconvert_exporter": "python",
   "pygments_lexer": "ipython3",
   "version": "3.8.5"
  }
 },
 "nbformat": 4,
 "nbformat_minor": 4
}
