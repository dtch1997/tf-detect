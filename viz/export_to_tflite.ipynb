{
 "cells": [
  {
   "cell_type": "code",
   "execution_count": 1,
   "metadata": {},
   "outputs": [],
   "source": [
    "import sys\n",
    "sys.path.append('../lib/tfmodels/research')\n",
    "sys.path.append('../')"
   ]
  },
  {
   "cell_type": "code",
   "execution_count": 8,
   "metadata": {},
   "outputs": [
    {
     "name": "stdout",
     "output_type": "stream",
     "text": [
      "{'_self_setattr_tracking': True, '_self_unconditional_checkpoint_dependencies': [TrackableReference(name='_model', ref=<tensorflow.python.saved_model.load.Loader._recreate_base_user_object.<locals>._UserObject object at 0x7f6890344a90>), TrackableReference(name='signatures', ref=_SignatureMap({'serving_default': <ConcreteFunction signature_wrapper(input_tensor) at 0x7F680E0A50D0>})), TrackableReference(name='_self_saveable_object_factories', ref=DictWrapper({}))], '_self_unconditional_dependency_names': {'_model': <tensorflow.python.saved_model.load.Loader._recreate_base_user_object.<locals>._UserObject object at 0x7f6890344a90>, 'signatures': _SignatureMap({'serving_default': <ConcreteFunction signature_wrapper(input_tensor) at 0x7F680E0A50D0>}), '_self_saveable_object_factories': DictWrapper({})}, '_self_unconditional_deferred_dependencies': {}, '_self_update_uid': 188394, '_self_name_based_restores': set(), '_self_saveable_object_factories': DictWrapper({}), '_model': <tensorflow.python.saved_model.load.Loader._recreate_base_user_object.<locals>._UserObject object at 0x7f6890344a90>, 'signatures': _SignatureMap({'serving_default': <ConcreteFunction signature_wrapper(input_tensor) at 0x7F680E0A50D0>}), '__call__': <tensorflow.python.saved_model.function_deserialization.RestoredFunction object at 0x7f680e6b8cd0>, 'graph_debug_info': , 'tensorflow_version': '2.4.0-dev20200805', 'tensorflow_git_version': 'v1.12.1-38522-g0b84561324'}\n"
     ]
    }
   ],
   "source": [
    "import os\n",
    "import tensorflow as tf\n",
    "os.chdir(\"/home/dtch009/tf-detect\")\n",
    "\n",
    "MODEL_NAME = \"ssd_mobilenet_v2_96x96_crowdhuman_debug_depth=0.1\"\n",
    "\n",
    "model_savedir = f'exported_models/{MODEL_NAME}/saved_model'\n",
    "model = tf.saved_model.load(model_savedir)\n",
    "print(model.__dict__)\n",
    "\n",
    "def count_parameters(model):\n",
    "    total_parameters = 0\n",
    "    for variable in model.variables:\n",
    "        shape = variable.get_shape()\n",
    "        variable_parameters = 1\n",
    "        for dim in shape:\n",
    "            variable_parameters *= dim.value\n",
    "        total_parameters += variable_parameters\n",
    "    return total_parameters\n",
    "\n",
    "# print(f\"Model has {count_parameters(model)} parameters\")"
   ]
  },
  {
   "cell_type": "code",
   "execution_count": 9,
   "metadata": {
    "scrolled": true
   },
   "outputs": [
    {
     "data": {
      "text/plain": [
       "293216"
      ]
     },
     "execution_count": 9,
     "metadata": {},
     "output_type": "execute_result"
    }
   ],
   "source": [
    "converter = tf.lite.TFLiteConverter.from_saved_model(model_savedir, signature_keys=['serving_default'])\n",
    "converter.optimizations = [tf.lite.Optimize.DEFAULT]\n",
    "converter.experimental_new_converter = True\n",
    "converter.target_spec.supported_ops = [tf.lite.OpsSet.TFLITE_BUILTINS, tf.lite.OpsSet.SELECT_TF_OPS]\n",
    "quantized_model = converter.convert()\n",
    "open(f'exported_models/{MODEL_NAME}/model.tflite', \"wb\").write(quantized_model)"
   ]
  },
  {
   "cell_type": "code",
   "execution_count": null,
   "metadata": {},
   "outputs": [],
   "source": []
  }
 ],
 "metadata": {
  "kernelspec": {
   "display_name": "Python 3",
   "language": "python",
   "name": "python3"
  },
  "language_info": {
   "codemirror_mode": {
    "name": "ipython",
    "version": 3
   },
   "file_extension": ".py",
   "mimetype": "text/x-python",
   "name": "python",
   "nbconvert_exporter": "python",
   "pygments_lexer": "ipython3",
   "version": "3.8.5"
  }
 },
 "nbformat": 4,
 "nbformat_minor": 4
}
